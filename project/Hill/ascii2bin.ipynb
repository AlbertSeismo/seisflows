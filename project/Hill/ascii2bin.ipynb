{
 "cells": [
  {
   "cell_type": "code",
   "execution_count": 4,
   "metadata": {},
   "outputs": [],
   "source": [
    "import numpy as np\n",
    "import obspy"
   ]
  },
  {
   "cell_type": "code",
   "execution_count": 5,
   "metadata": {},
   "outputs": [],
   "source": [
    "def write_slice(data, path, parameters, iproc):\n",
    "    \"\"\" Writes SPECFEM model slice\n",
    "    \"\"\"\n",
    "    for key in parameters:\n",
    "        filename = '%s/proc%06d_%s.bin' % (path, iproc, key)\n",
    "        _write(data, filename)"
   ]
  },
  {
   "cell_type": "code",
   "execution_count": 6,
   "metadata": {},
   "outputs": [],
   "source": [
    "def _write(v, filename):\n",
    "    \"\"\" Writes Fortran style binary files--data are written as single precision\n",
    "        floating point numbers\n",
    "    \"\"\"\n",
    "    n = np.array([4*len(v)], dtype='int32')\n",
    "    v = np.array(v, dtype='float32')\n",
    "\n",
    "    with open(filename, 'wb') as file:\n",
    "        n.tofile(file)\n",
    "        v.tofile(file)\n",
    "        n.tofile(file)\n"
   ]
  },
  {
   "cell_type": "code",
   "execution_count": 7,
   "metadata": {},
   "outputs": [],
   "source": [
    "NPROC = 3\n",
    "for PROC in range(NPROC):\n",
    "    data_true = np.loadtxt('./model_true/proc'+ str(PROC).zfill(6)+ '_rho_vp_vs.dat')\n",
    "    i=0\n",
    "    for par in [\"x\",\"z\",\"rho\",\"vp\",\"vs\"]:\n",
    "        write_slice(data_true[:,i],'./model_true/',[par],PROC)\n",
    "        i=i+1\n",
    "for PROC in range(NPROC):\n",
    "    data_init = np.loadtxt('./model_init/proc'+ str(PROC).zfill(6)+ '_rho_vp_vs.dat')\n",
    "    i=0\n",
    "    for par in [\"x\",\"z\",\"rho\",\"vp\",\"vs\"]:\n",
    "        write_slice(data_init[:,i],'./model_init/',[par],PROC)\n",
    "        i=i+1"
   ]
  },
  {
   "cell_type": "code",
   "execution_count": 12,
   "metadata": {},
   "outputs": [
    {
     "data": {
      "text/plain": [
       "array([ 3500.,  3500.,  3500., ...,  3500.,  3500.,  3500.])"
      ]
     },
     "execution_count": 12,
     "metadata": {},
     "output_type": "execute_result"
    }
   ],
   "source": [
    "data_init[:,4]"
   ]
  },
  {
   "cell_type": "code",
   "execution_count": null,
   "metadata": {},
   "outputs": [],
   "source": []
  }
 ],
 "metadata": {
  "kernelspec": {
   "display_name": "Python 2",
   "language": "python",
   "name": "python2"
  },
  "language_info": {
   "codemirror_mode": {
    "name": "ipython",
    "version": 2
   },
   "file_extension": ".py",
   "mimetype": "text/x-python",
   "name": "python",
   "nbconvert_exporter": "python",
   "pygments_lexer": "ipython2",
   "version": "2.7.17"
  }
 },
 "nbformat": 4,
 "nbformat_minor": 2
}
